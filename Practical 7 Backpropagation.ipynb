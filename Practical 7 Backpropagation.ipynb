{
  "nbformat": 4,
  "nbformat_minor": 0,
  "metadata": {
    "colab": {
      "name": "Practical 7 Backpropagation.ipynb",
      "version": "0.3.2",
      "provenance": []
    },
    "kernelspec": {
      "name": "python3",
      "display_name": "Python 3"
    }
  },
  "cells": [
    {
      "metadata": {
        "id": "wxl8bIuTMKFS",
        "colab_type": "text"
      },
      "cell_type": "markdown",
      "source": [
        "**Practical 7**\n",
        "Aim: Implement Backpropogation algorithm for predicting student result. (use Keras library)\n"
      ]
    },
    {
      "metadata": {
        "id": "CYyRKXw_IfbU",
        "colab_type": "code",
        "colab": {}
      },
      "cell_type": "code",
      "source": [
        "from sklearn.datasets import load_wine\n",
        "from keras.models import Sequential\n",
        "from keras.layers import Dense\n",
        "import numpy\n",
        "# fix random seed for reproducibility\n",
        "numpy.random.seed(7)"
      ],
      "execution_count": 0,
      "outputs": []
    },
    {
      "metadata": {
        "id": "4OZZ8fq4Inky",
        "colab_type": "code",
        "colab": {}
      },
      "cell_type": "code",
      "source": [
        "df = load_wine()"
      ],
      "execution_count": 0,
      "outputs": []
    },
    {
      "metadata": {
        "id": "N5V73YDZJLZa",
        "colab_type": "code",
        "colab": {
          "base_uri": "https://localhost:8080/",
          "height": 100
        },
        "outputId": "994dd49c-7992-46fd-ecd4-36c597635e87"
      },
      "cell_type": "code",
      "source": [
        "y = df.target\n",
        "print(y)"
      ],
      "execution_count": 24,
      "outputs": [
        {
          "output_type": "stream",
          "text": [
            "[0 0 0 0 0 0 0 0 0 0 0 0 0 0 0 0 0 0 0 0 0 0 0 0 0 0 0 0 0 0 0 0 0 0 0 0 0\n",
            " 0 0 0 0 0 0 0 0 0 0 0 0 0 0 0 0 0 0 0 0 0 0 1 1 1 1 1 1 1 1 1 1 1 1 1 1 1\n",
            " 1 1 1 1 1 1 1 1 1 1 1 1 1 1 1 1 1 1 1 1 1 1 1 1 1 1 1 1 1 1 1 1 1 1 1 1 1\n",
            " 1 1 1 1 1 1 1 1 1 1 1 1 1 1 1 1 1 1 1 2 2 2 2 2 2 2 2 2 2 2 2 2 2 2 2 2 2\n",
            " 2 2 2 2 2 2 2 2 2 2 2 2 2 2 2 2 2 2 2 2 2 2 2 2 2 2 2 2 2 2]\n"
          ],
          "name": "stdout"
        }
      ]
    },
    {
      "metadata": {
        "id": "sBjQtIOvJ2QF",
        "colab_type": "code",
        "colab": {}
      },
      "cell_type": "code",
      "source": [
        "X = df.data\n"
      ],
      "execution_count": 0,
      "outputs": []
    },
    {
      "metadata": {
        "id": "WO5adztcKdCb",
        "colab_type": "code",
        "colab": {
          "base_uri": "https://localhost:8080/",
          "height": 33
        },
        "outputId": "854c07be-e460-42bb-c5f3-735179f8d67b"
      },
      "cell_type": "code",
      "source": [
        "df.data.shape"
      ],
      "execution_count": 20,
      "outputs": [
        {
          "output_type": "execute_result",
          "data": {
            "text/plain": [
              "(178, 13)"
            ]
          },
          "metadata": {
            "tags": []
          },
          "execution_count": 20
        }
      ]
    },
    {
      "metadata": {
        "id": "76_t4cMTKHwd",
        "colab_type": "code",
        "colab": {}
      },
      "cell_type": "code",
      "source": [
        "import numpy as np\n",
        "from sklearn.model_selection import train_test_split\n",
        "X_train, X_test, y_train, y_test = train_test_split(X,y, test_size=0.33, random_state=42)"
      ],
      "execution_count": 0,
      "outputs": []
    },
    {
      "metadata": {
        "id": "-NWyqSPyKIIg",
        "colab_type": "code",
        "colab": {}
      },
      "cell_type": "code",
      "source": [
        "# create model\n",
        "model = Sequential()\n",
        "\n",
        "model.add(Dense(128, input_dim=13, activation='relu'))\n",
        "model.add(Dense(128, activation='relu'))\n",
        "model.add(Dense(128, activation='relu'))\n",
        "model.add(Dense(128, activation='relu'))\n",
        "model.add(Dense(128, activation='relu'))\n",
        "model.add(Dense(128, activation='relu'))\n",
        "model.add(Dense(64, activation='relu'))\n",
        "model.add(Dense(32, activation='relu'))\n",
        "model.add(Dense(32, activation='relu'))\n",
        "model.add(Dense(16, activation='relu'))\n",
        "model.add(Dense(4, activation='relu'))\n",
        "model.add(Dense(1, activation='sigmoid'))\n"
      ],
      "execution_count": 0,
      "outputs": []
    },
    {
      "metadata": {
        "id": "Cs3-5X6iKMnc",
        "colab_type": "code",
        "colab": {}
      },
      "cell_type": "code",
      "source": [
        "# Compile model\n",
        "model.compile(loss='binary_crossentropy', optimizer='adam', metrics=['accuracy'])"
      ],
      "execution_count": 0,
      "outputs": []
    },
    {
      "metadata": {
        "id": "VEhFN28hKQ0q",
        "colab_type": "code",
        "colab": {
          "base_uri": "https://localhost:8080/",
          "height": 1039
        },
        "outputId": "a929e596-72cb-4542-a557-55129b3d531f"
      },
      "cell_type": "code",
      "source": [
        "model.fit(X_train,y_train, epochs=30)"
      ],
      "execution_count": 43,
      "outputs": [
        {
          "output_type": "stream",
          "text": [
            "Epoch 1/30\n",
            "119/119 [==============================] - 0s 223us/step - loss: 0.8038 - acc: 0.3950\n",
            "Epoch 2/30\n",
            "119/119 [==============================] - 0s 187us/step - loss: 0.8038 - acc: 0.3950\n",
            "Epoch 3/30\n",
            "119/119 [==============================] - 0s 173us/step - loss: 0.8038 - acc: 0.3950\n",
            "Epoch 4/30\n",
            "119/119 [==============================] - 0s 168us/step - loss: 0.8038 - acc: 0.3950\n",
            "Epoch 5/30\n",
            "119/119 [==============================] - 0s 171us/step - loss: 0.8038 - acc: 0.3950\n",
            "Epoch 6/30\n",
            "119/119 [==============================] - 0s 163us/step - loss: 0.8038 - acc: 0.3950\n",
            "Epoch 7/30\n",
            "119/119 [==============================] - 0s 173us/step - loss: 0.8038 - acc: 0.3950\n",
            "Epoch 8/30\n",
            "119/119 [==============================] - 0s 166us/step - loss: 0.8038 - acc: 0.3950\n",
            "Epoch 9/30\n",
            "119/119 [==============================] - 0s 172us/step - loss: 0.8038 - acc: 0.3950\n",
            "Epoch 10/30\n",
            "119/119 [==============================] - 0s 179us/step - loss: 0.8038 - acc: 0.3950\n",
            "Epoch 11/30\n",
            "119/119 [==============================] - 0s 221us/step - loss: 0.8038 - acc: 0.3950\n",
            "Epoch 12/30\n",
            "119/119 [==============================] - 0s 191us/step - loss: 0.8038 - acc: 0.3950\n",
            "Epoch 13/30\n",
            "119/119 [==============================] - 0s 173us/step - loss: 0.8038 - acc: 0.3950\n",
            "Epoch 14/30\n",
            "119/119 [==============================] - 0s 165us/step - loss: 0.8038 - acc: 0.3950\n",
            "Epoch 15/30\n",
            "119/119 [==============================] - 0s 169us/step - loss: 0.8038 - acc: 0.3950\n",
            "Epoch 16/30\n",
            "119/119 [==============================] - 0s 159us/step - loss: 0.8038 - acc: 0.3950\n",
            "Epoch 17/30\n",
            "119/119 [==============================] - 0s 163us/step - loss: 0.8038 - acc: 0.3950\n",
            "Epoch 18/30\n",
            "119/119 [==============================] - 0s 155us/step - loss: 0.8038 - acc: 0.3950\n",
            "Epoch 19/30\n",
            "119/119 [==============================] - 0s 170us/step - loss: 0.8038 - acc: 0.3950\n",
            "Epoch 20/30\n",
            "119/119 [==============================] - 0s 187us/step - loss: 0.8038 - acc: 0.3950\n",
            "Epoch 21/30\n",
            "119/119 [==============================] - 0s 188us/step - loss: 0.8038 - acc: 0.3950\n",
            "Epoch 22/30\n",
            "119/119 [==============================] - 0s 206us/step - loss: 0.8038 - acc: 0.3950\n",
            "Epoch 23/30\n",
            "119/119 [==============================] - 0s 165us/step - loss: 0.8038 - acc: 0.3950\n",
            "Epoch 24/30\n",
            "119/119 [==============================] - 0s 184us/step - loss: 0.8038 - acc: 0.3950\n",
            "Epoch 25/30\n",
            "119/119 [==============================] - 0s 171us/step - loss: 0.8038 - acc: 0.3950\n",
            "Epoch 26/30\n",
            "119/119 [==============================] - 0s 179us/step - loss: 0.8038 - acc: 0.3950\n",
            "Epoch 27/30\n",
            "119/119 [==============================] - 0s 157us/step - loss: 0.8038 - acc: 0.3950\n",
            "Epoch 28/30\n",
            "119/119 [==============================] - 0s 167us/step - loss: 0.8038 - acc: 0.3950\n",
            "Epoch 29/30\n",
            "119/119 [==============================] - 0s 175us/step - loss: 0.8038 - acc: 0.3950\n",
            "Epoch 30/30\n",
            "119/119 [==============================] - 0s 204us/step - loss: 0.8038 - acc: 0.3950\n"
          ],
          "name": "stdout"
        },
        {
          "output_type": "execute_result",
          "data": {
            "text/plain": [
              "<keras.callbacks.History at 0x7f4aa0083588>"
            ]
          },
          "metadata": {
            "tags": []
          },
          "execution_count": 43
        }
      ]
    },
    {
      "metadata": {
        "id": "Tg2dw-tMKUwa",
        "colab_type": "code",
        "colab": {}
      },
      "cell_type": "code",
      "source": [
        ""
      ],
      "execution_count": 0,
      "outputs": []
    },
    {
      "metadata": {
        "id": "QWwqIxEIMGLu",
        "colab_type": "code",
        "colab": {}
      },
      "cell_type": "code",
      "source": [
        ""
      ],
      "execution_count": 0,
      "outputs": []
    }
  ]
}